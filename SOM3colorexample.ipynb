{
 "cells": [
  {
   "cell_type": "code",
   "execution_count": 54,
   "metadata": {
    "collapsed": false
   },
   "outputs": [],
   "source": [
    "import numpy as np\n",
    "from matplotlib import pyplot as plt\n",
    "%matplotlib inline"
   ]
  },
  {
   "cell_type": "code",
   "execution_count": 55,
   "metadata": {
    "collapsed": true
   },
   "outputs": [],
   "source": [
    "class SOM():\n",
    "    \n",
    "    def __init__(self, teachers, N, seed=None):\n",
    "        self.teachers = np.array(teachers) #teacher関数の作成(入力データを教えてくれる)\n",
    "        self.n_teacher = self.teachers.shape[0] #おそらく、teacherのデータ数\n",
    "        self.N = N #マップの大きさ\n",
    "        if not seed is None:\n",
    "            np.random.seed(seed) #seedが指定されていれば、seedを取得\n",
    "            \n",
    "        x, y = np.meshgrid(range(self.N), range(self.N)) # xは、[0,1,2,...19]が20個　yは、[0,0,0,...,0][1,1,1,1...,1]を19まで\n",
    "        self.c = np.hstack((x.flatten()[:, np.newaxis],\n",
    "                            y.flatten()[:, np.newaxis]))#xとyを合わせて座標軸の作成array[[0,1],[0,2],...,[19,19]]\n",
    "        self.nodes = np.random.rand(self.N*self.N,\n",
    "                                    self.teachers.shape[1])#19*19の三値の乱数を作成一次元配列\n",
    "    \n",
    "    \n",
    "        #W(t+1)=W(t)+Φ(t)L(t)(V(t)-W(t))\n",
    "        \n",
    "    def train(self):\n",
    "        for i, teacher in enumerate(self.teachers): #self.techers の中にある全ての要素をteacherとして取り出し #iはtとして\n",
    "            bmu = self._best_matching_unit(teacher) #bmuを見つける座標をbmuに格納\n",
    "            d = np.linalg.norm(self.c - bmu, axis=1) #dの中にはbmuと各点間の距離を格納している\n",
    "            L = self._learning_ratio(i) #ここの中にL(t)を格納\n",
    "            S = self._learning_radius(i, d) #ここの中にΦ(t)を格納\n",
    "            self.nodes += L * S[:, np.newaxis] * (teacher - self.nodes) #W(t)（Sは場所に依存する配列）\n",
    "        return self.nodes        #compute all norms (square)\n",
    "\n",
    "\n",
    "    def _best_matching_unit(self, teacher):\n",
    "        norms = np.linalg.norm(self.nodes - teacher, axis=1) #全てのノードとteacherを比較して、ノルムを計算\n",
    "        bmu = np.argmin(norms) #argment with minimum element　normsのなかで一番小さいノルムを取得 ここで返すのは、インデックスのみ\n",
    "        return np.unravel_index(bmu,(self.N, self.N)) #返す値は、インデックス番号がどれに値するかという情報\n",
    "\n",
    "    #σ(t)\n",
    "    def _neighbourhood(self, t):#neighbourhood radious 更新するノード数は徐々に減っていく\n",
    "        halflife = float(self.n_teacher/4) #for testing\n",
    "        initial  = float(self.N/2) #initial=20/2=10\n",
    "        return initial*np.exp(-t/halflife) #10exp(-t/250)のレートで下がっていくt=0で10,t=250で5\n",
    "    \n",
    "    #L(t)\n",
    "    def _learning_ratio(self, t): #learning関数\n",
    "        halflife = float(self.n_teacher/4) #for testing\n",
    "        initial  = 0.1\n",
    "        return initial*np.exp(-t/halflife) #初期の更新係数は0.1そこから、だんだん更新度合いは減少していく\n",
    "    \n",
    "    #Φ(t)=exp((-dist^2)/(2σ^2(t)))\n",
    "    #distはBMUからの距離でいい\n",
    "    def _learning_radius(self, t, d):\n",
    "        # d is distance from BMU\n",
    "        s = self._neighbourhood(t) #sは、時間tの近傍半径\n",
    "        return np.exp(-d**2/(2*s**2))  #近傍関数の値を返す（近ければ近いほど、大きい）Sも配列になる\n",
    "    "
   ]
  },
  {
   "cell_type": "code",
   "execution_count": 66,
   "metadata": {
    "collapsed": false
   },
   "outputs": [
    {
     "data": {
      "image/png": "[encoded data removed]",
      "text/plain": [
       "<matplotlib.figure.Figure at 0x9805358>"
      ]
     },
     "metadata": {},
     "output_type": "display_data"
    },
    {
     "data": {
      "image/png": "[encoded data removed]",
      "text/plain": [
       "<matplotlib.figure.Figure at 0x99e1be0>"
      ]
     },
     "metadata": {},
     "output_type": "display_data"
    }
   ],
   "source": [
    "N = 20\n",
    "teachers = np.random.rand(100000, 3)\n",
    "som = SOM(teachers, N=20, seed=10)\n",
    "\n",
    "# Initial map\n",
    "plt.imshow(som.nodes.reshape((N, N, 3)),\n",
    "           interpolation='none')\n",
    "plt.show()\n",
    "\n",
    "# Train\n",
    "som.train()\n",
    "\n",
    "# Trained MAP\n",
    "plt.imshow(som.nodes.reshape((N, N, 3)),\n",
    "           interpolation='none')\n",
    "plt.show()"
   ]
  },
  {
   "cell_type": "code",
   "execution_count": 69,
   "metadata": {
    "collapsed": false
   },
   "outputs": [
    {
     "data": {
      "text/plain": [
       "array([[[ 0.51719296,  0.80275184,  0.86068555],\n",
       "        [ 0.40196757,  0.79843979,  0.88989102],\n",
       "        [ 0.26208566,  0.82579013,  0.89176625],\n",
       "        ..., \n",
       "        [ 0.81175057,  0.8739292 ,  0.75806282],\n",
       "        [ 0.83628241,  0.87063221,  0.8677183 ],\n",
       "        [ 0.73754074,  0.84899634,  0.89379645]],\n",
       "\n",
       "       [[ 0.40197121,  0.79849095,  0.88975687],\n",
       "        [ 0.31423669,  0.71855185,  0.90021797],\n",
       "        [ 0.17399924,  0.7557093 ,  0.90113108],\n",
       "        ..., \n",
       "        [ 0.80524466,  0.76704108,  0.74056629],\n",
       "        [ 0.82021069,  0.75049581,  0.84486022],\n",
       "        [ 0.74485594,  0.72744318,  0.88930581]],\n",
       "\n",
       "       [[ 0.26203771,  0.82569407,  0.89184682],\n",
       "        [ 0.17415102,  0.75587618,  0.90108277],\n",
       "        [ 0.11185291,  0.65244008,  0.89633451],\n",
       "        ..., \n",
       "        [ 0.79994752,  0.63780725,  0.71034232],\n",
       "        [ 0.80567575,  0.61453539,  0.82882339],\n",
       "        [ 0.71106075,  0.59166961,  0.883981  ]],\n",
       "\n",
       "       ..., \n",
       "       [[ 0.8119323 ,  0.87397779,  0.75827512],\n",
       "        [ 0.80512395,  0.76703903,  0.74028474],\n",
       "        [ 0.80001336,  0.63783497,  0.71047159],\n",
       "        ..., \n",
       "        [ 0.14777321,  0.11404615,  0.89805575],\n",
       "        [ 0.2547413 ,  0.15249225,  0.86978092],\n",
       "        [ 0.34018907,  0.21066199,  0.8732341 ]],\n",
       "\n",
       "       [[ 0.83639086,  0.87056542,  0.86762657],\n",
       "        [ 0.82003307,  0.75051483,  0.84485575],\n",
       "        [ 0.80573257,  0.6143401 ,  0.82884689],\n",
       "        ..., \n",
       "        [ 0.25472548,  0.15245245,  0.86981694],\n",
       "        [ 0.37096209,  0.10512382,  0.80432205],\n",
       "        [ 0.46254667,  0.15639075,  0.86413257]],\n",
       "\n",
       "       [[ 0.73751748,  0.84898561,  0.89375541],\n",
       "        [ 0.74490799,  0.72745085,  0.88921993],\n",
       "        [ 0.71134866,  0.5918135 ,  0.88380169],\n",
       "        ..., \n",
       "        [ 0.34013801,  0.21048083,  0.87338434],\n",
       "        [ 0.46257197,  0.1564063 ,  0.86411044],\n",
       "        [ 0.56463874,  0.19556056,  0.90051101]]])"
      ]
     },
     "execution_count": 69,
     "metadata": {},
     "output_type": "execute_result"
    }
   ],
   "source": [
    "som.nodes.reshape((N, N, 3))"
   ]
  },
  {
   "cell_type": "code",
   "execution_count": 58,
   "metadata": {
    "collapsed": false
   },
   "outputs": [
    {
     "data": {
      "text/plain": [
       "(19, 19)"
      ]
     },
     "execution_count": 58,
     "metadata": {},
     "output_type": "execute_result"
    }
   ],
   "source": [
    "norms = np.linalg.norm(som.nodes - som.teachers[0], axis=1)\n",
    "bmu = np.argmin(norms)\n",
    "np.unravel_index(bmu,(som.N, som.N))"
   ]
  },
  {
   "cell_type": "code",
   "execution_count": 67,
   "metadata": {
    "collapsed": false
   },
   "outputs": [
    {
     "data": {
      "text/plain": [
       "array([[ 0.51719296,  0.80275184,  0.86068555],\n",
       "       [ 0.40196757,  0.79843979,  0.88989102],\n",
       "       [ 0.26208566,  0.82579013,  0.89176625],\n",
       "       ..., \n",
       "       [ 0.34013801,  0.21048083,  0.87338434],\n",
       "       [ 0.46257197,  0.1564063 ,  0.86411044],\n",
       "       [ 0.56463874,  0.19556056,  0.90051101]])"
      ]
     },
     "execution_count": 67,
     "metadata": {},
     "output_type": "execute_result"
    }
   ],
   "source": [
    "som.nodes"
   ]
  },
  {
   "cell_type": "code",
   "execution_count": 65,
   "metadata": {
    "collapsed": false
   },
   "outputs": [
    {
     "ename": "TypeError",
     "evalue": "data type not understood",
     "output_type": "error",
     "traceback": [
      "\u001b[0;31m---------------------------------------------------------------------------\u001b[0m",
      "\u001b[0;31mTypeError\u001b[0m                                 Traceback (most recent call last)",
      "\u001b[0;32m<ipython-input-65-209a07e7571a>\u001b[0m in \u001b[0;36m<module>\u001b[0;34m()\u001b[0m\n\u001b[0;32m----> 1\u001b[0;31m \u001b[0mhello\u001b[0m \u001b[1;33m=\u001b[0m \u001b[0mnp\u001b[0m\u001b[1;33m.\u001b[0m\u001b[0marray\u001b[0m\u001b[1;33m(\u001b[0m\u001b[1;36m0\u001b[0m\u001b[1;33m,\u001b[0m\u001b[1;36m0\u001b[0m\u001b[1;33m)\u001b[0m\u001b[1;33m\u001b[0m\u001b[0m\n\u001b[0m",
      "\u001b[0;31mTypeError\u001b[0m: data type not understood"
     ]
    }
   ],
   "source": [
    "hello = np.array(0,0)"
   ]
  },
  {
   "cell_type": "code",
   "execution_count": 64,
   "metadata": {
    "collapsed": false
   },
   "outputs": [
    {
     "data": {
      "text/plain": [
       "array([0, 0])"
      ]
     },
     "execution_count": 64,
     "metadata": {},
     "output_type": "execute_result"
    }
   ],
   "source": [
    "hello"
   ]
  },
  {
   "cell_type": "code",
   "execution_count": null,
   "metadata": {
    "collapsed": true
   },
   "outputs": [],
   "source": []
  }
 ],
 "metadata": {
  "kernelspec": {
   "display_name": "Python 2",
   "language": "python",
   "name": "python2"
  },
  "language_info": {
   "codemirror_mode": {
    "name": "ipython",
    "version": 2
   },
   "file_extension": ".py",
   "mimetype": "text/x-python",
   "name": "python",
   "nbconvert_exporter": "python",
   "pygments_lexer": "ipython2",
   "version": "2.7.13"
  }
 },
 "nbformat": 4,
 "nbformat_minor": 2
}
