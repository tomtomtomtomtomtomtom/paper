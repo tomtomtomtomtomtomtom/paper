{
 "cells": [
  {
   "cell_type": "code",
   "execution_count": 2,
   "metadata": {
    "collapsed": true
   },
   "outputs": [],
   "source": [
    "import numpy as np\n",
    "from matplotlib import pyplot as plt\n",
    "%matplotlib inline\n",
    "from sklearn.cluster import KMeans\n"
   ]
  },
  {
   "cell_type": "code",
   "execution_count": 3,
   "metadata": {
    "collapsed": false
   },
   "outputs": [],
   "source": [
    "class SOM():\n",
    "    \n",
    "    def __init__(self, teachers, N, times, seed=None,):\n",
    "        self.teachers = np.array(teachers) #teacher関数の作成(入力データを教えてくれる)\n",
    "        self.n_teacher = self.teachers.shape[0] #おそらく、teacherのデータ数\n",
    "        self.N = N #マップの大きさ\n",
    "        self.times = times #学習回数\n",
    "        if not seed is None:\n",
    "            np.random.seed(seed) #seedが指定されていれば、seedを取得\n",
    "            \n",
    "        x, y = np.meshgrid(range(self.N), range(self.N)) # xは、[0,1,2,...19]が20個　yは、[0,0,0,...,0][1,1,1,1...,1]を19まで\n",
    "        self.c = np.hstack((x.flatten()[:, np.newaxis],\n",
    "                            y.flatten()[:, np.newaxis]))#xとyを合わせて座標軸の作成array[[0,1],[0,2],...,[19,19]]\n",
    "        self.nodes = teachers#19*19の三値の乱数を作成\n",
    "    \n",
    "    \n",
    "        #W(t+1)=W(t)+Φ(t)L(t)(V(t)-W(t))\n",
    "        \n",
    "    def train(self):\n",
    "        for var in range(self.times):\n",
    "            np.random.shuffle(self.teachers)\n",
    "            for i, teacher in enumerate(self.teachers): #self.techers の中にある全ての要素をteacherとして取り出し #iはtとして\n",
    "                bmu = self._best_matching_unit(teacher) #bmuを見つける座標をbmuに格納\n",
    "                d = np.linalg.norm(self.c - bmu, axis=1) #dの中にはbmuと各点間の距離を格納している\n",
    "                L = self._learning_ratio(i) #ここの中にL(t)を格納\n",
    "                S = self._learning_radius(i, d) #ここの中にΦ(t)を格納\n",
    "                self.nodes += L * S[:, np.newaxis] * (teacher - self.nodes) #W(t)（Sは場所に依存する配列）\n",
    "        return self.nodes        #compute all norms (square)\n",
    "\n",
    "\n",
    "    def _best_matching_unit(self, teacher):\n",
    "        norms = np.linalg.norm(self.nodes - teacher, axis=1) #全てのノードとteacherを比較して、ノルムを計算\n",
    "        bmu = np.argmin(norms) #argment with minimum element　normsのなかで一番小さいノルムを取得 ここで返すのは、インデックスのみ\n",
    "        return np.unravel_index(bmu,(self.N, self.N)) #返す値は、インデックス番号がどれに値するかという情報\n",
    "\n",
    "    #σ(t)\n",
    "    def _neighbourhood(self, t):#neighbourhood radious 更新するノード数は徐々に減っていく\n",
    "        halflife = float(self.n_teacher/4) #for testing\n",
    "        initial  = float(self.N/2) #initial=20/2=10\n",
    "        return initial*np.exp(-t/halflife) #10exp(-t/250)のレートで下がっていくt=0で10,t=250で5\n",
    "    \n",
    "    #L(t)\n",
    "    def _learning_ratio(self, t): #learning関数\n",
    "        halflife = float(self.n_teacher/4) #for testing\n",
    "        initial  = 0.1\n",
    "        return initial*np.exp(-t/halflife) #初期の更新係数は0.1そこから、だんだん更新度合いは減少していく\n",
    "    \n",
    "    #Φ(t)=exp((-dist^2)/(2σ^2(t)))\n",
    "    #distはBMUからの距離でいい\n",
    "    def _learning_radius(self, t, d):\n",
    "        # d is distance from BMU\n",
    "        s = self._neighbourhood(t) #sは、時間tの近傍半径\n",
    "        return np.exp(-d**2/(2*s**2))  #近傍関数の値を返す（近ければ近いほど、大きい）Sも配列になる\n",
    "    "
   ]
  },
  {
   "cell_type": "code",
   "execution_count": 4,
   "metadata": {
    "collapsed": false,
    "scrolled": true
   },
   "outputs": [
    {
     "data": {
      "image/png": "[encoded data removed]",
      "text/plain": [
       "<matplotlib.figure.Figure at 0x625ce48>"
      ]
     },
     "metadata": {},
     "output_type": "display_data"
    },
    {
     "data": {
      "text/plain": [
       "array([[[ 0.2       ,  0.2       ,  0.66666667,  0.33333333],\n",
       "        [ 0.2       ,  0.2       ,  0.66666667,  0.33333333],\n",
       "        [ 0.2       ,  0.4       ,  0.33333333,  0.33333333],\n",
       "        [ 0.2       ,  0.4       ,  0.33333333,  0.33333333],\n",
       "        [ 0.2       ,  0.4       ,  0.66666667,  0.33333333],\n",
       "        [ 0.6       ,  0.6       ,  0.33333333,  0.33333333]],\n",
       "\n",
       "       [[ 0.4       ,  0.2       ,  0.66666667,  0.33333333],\n",
       "        [ 0.6       ,  0.2       ,  1.        ,  0.33333333],\n",
       "        [ 0.2       ,  0.6       ,  0.33333333,  0.33333333],\n",
       "        [ 0.6       ,  0.4       ,  0.66666667,  0.33333333],\n",
       "        [ 0.6       ,  0.6       ,  0.33333333,  0.33333333],\n",
       "        [ 0.6       ,  0.4       ,  0.33333333,  0.33333333]],\n",
       "\n",
       "       [[ 0.8       ,  0.4       ,  0.33333333,  1.        ],\n",
       "        [ 0.8       ,  0.4       ,  0.33333333,  1.        ],\n",
       "        [ 0.8       ,  0.4       ,  0.66666667,  0.33333333],\n",
       "        [ 0.8       ,  0.4       ,  1.        ,  0.33333333],\n",
       "        [ 0.8       ,  0.8       ,  0.66666667,  1.        ],\n",
       "        [ 0.8       ,  0.6       ,  0.66666667,  0.33333333]],\n",
       "\n",
       "       [[ 0.8       ,  0.6       ,  0.66666667,  0.33333333],\n",
       "        [ 0.8       ,  0.6       ,  0.66666667,  1.        ],\n",
       "        [ 0.8       ,  0.2       ,  0.66666667,  0.33333333],\n",
       "        [ 1.        ,  0.2       ,  0.66666667,  0.33333333],\n",
       "        [ 0.8       ,  0.8       ,  0.66666667,  1.        ],\n",
       "        [ 0.6       ,  0.4       ,  0.66666667,  0.33333333]],\n",
       "\n",
       "       [[ 1.        ,  0.6       ,  0.66666667,  0.33333333],\n",
       "        [ 1.        ,  0.6       ,  0.66666667,  0.66666667],\n",
       "        [ 1.        ,  0.6       ,  1.        ,  0.33333333],\n",
       "        [ 1.        ,  0.6       ,  1.        ,  0.33333333],\n",
       "        [ 1.        ,  0.6       ,  0.66666667,  0.33333333],\n",
       "        [ 1.        ,  0.6       ,  1.        ,  0.33333333]],\n",
       "\n",
       "       [[ 1.        ,  0.8       ,  0.66666667,  0.66666667],\n",
       "        [ 1.        ,  0.4       ,  1.        ,  0.33333333],\n",
       "        [ 1.        ,  0.6       ,  1.        ,  0.33333333],\n",
       "        [ 1.        ,  0.6       ,  1.        ,  0.33333333],\n",
       "        [ 1.        ,  0.8       ,  0.66666667,  1.        ],\n",
       "        [ 1.        ,  0.8       ,  0.66666667,  1.        ]]])"
      ]
     },
     "execution_count": 4,
     "metadata": {},
     "output_type": "execute_result"
    }
   ],
   "source": [
    "input_data=np.loadtxt(\"C:\\Users\\Tomomu-Iwai\\Downloads\\sampledataset3.csv\",delimiter=\",\")\n",
    "teachers = input_data[0:36]\n",
    "#np.random.shuffle(teachers)\n",
    "N = 6\n",
    "som = SOM(teachers, N=6, times=10, seed=10)\n",
    "# Initial map\n",
    "plt.imshow(som.nodes.reshape((N, N, 4)),\n",
    "           interpolation='none')\n",
    "plt.show()\n",
    "som.nodes.reshape((N, N, 4))"
   ]
  },
  {
   "cell_type": "code",
   "execution_count": 29,
   "metadata": {
    "collapsed": false,
    "scrolled": false
   },
   "outputs": [
    {
     "data": {
      "image/png": "[encoded data removed]",
      "text/plain": [
       "<matplotlib.figure.Figure at 0xa5f6320>"
      ]
     },
     "metadata": {},
     "output_type": "display_data"
    },
    {
     "data": {
      "text/plain": [
       "array([[ 0.3451169 ,  0.3523282 ,  0.5386578 ,  0.36176607],\n",
       "       [ 0.41920772,  0.35496868,  0.55000242,  0.38104779],\n",
       "       [ 0.49200495,  0.37858689,  0.52599946,  0.4119108 ],\n",
       "       [ 0.53909315,  0.38726493,  0.53561772,  0.41555951],\n",
       "       [ 0.55854154,  0.40053994,  0.62056458,  0.41432686],\n",
       "       [ 0.70102456,  0.49509752,  0.51765632,  0.40068427],\n",
       "       [ 0.43064108,  0.36539811,  0.54944121,  0.3661613 ],\n",
       "       [ 0.50708852,  0.37239337,  0.59092838,  0.37520264],\n",
       "       [ 0.54885728,  0.41161307,  0.55570846,  0.39420538],\n",
       "       [ 0.65740401,  0.40679772,  0.6130084 ,  0.40491985],\n",
       "       [ 0.7166359 ,  0.46096214,  0.58014155,  0.40299305],\n",
       "       [ 0.74751366,  0.43749517,  0.57025164,  0.39218351],\n",
       "       [ 0.53822784,  0.40689042,  0.52556978,  0.43217002],\n",
       "       [ 0.59231512,  0.41508839,  0.55479899,  0.42850083],\n",
       "       [ 0.67101108,  0.42417556,  0.61197354,  0.39802317],\n",
       "       [ 0.74862509,  0.43975817,  0.6775609 ,  0.40184655],\n",
       "       [ 0.81254767,  0.51207996,  0.68197718,  0.48982123],\n",
       "       [ 0.85023936,  0.51399642,  0.70247948,  0.39417916],\n",
       "       [ 0.60261152,  0.4544639 ,  0.55937155,  0.37539793],\n",
       "       [ 0.66888328,  0.45729029,  0.59507719,  0.44310856],\n",
       "       [ 0.74107089,  0.4458878 ,  0.64319021,  0.41902251],\n",
       "       [ 0.82642866,  0.46362457,  0.68649894,  0.41435224],\n",
       "       [ 0.86943993,  0.53317777,  0.72346724,  0.4606547 ],\n",
       "       [ 0.86619462,  0.51170353,  0.74199741,  0.41045762],\n",
       "       [ 0.67477829,  0.48483679,  0.5618571 ,  0.37687587],\n",
       "       [ 0.72947404,  0.489272  ,  0.60258476,  0.43451179],\n",
       "       [ 0.79680478,  0.50190861,  0.66583417,  0.45622522],\n",
       "       [ 0.86594834,  0.52160054,  0.73292471,  0.42806645],\n",
       "       [ 0.91826743,  0.55061497,  0.76168216,  0.4254548 ],\n",
       "       [ 0.93944368,  0.57304159,  0.79470444,  0.4506747 ],\n",
       "       [ 0.70305948,  0.53832618,  0.54425907,  0.40672765],\n",
       "       [ 0.75551928,  0.49591448,  0.6278686 ,  0.39809907],\n",
       "       [ 0.82293405,  0.52350906,  0.69249264,  0.41849428],\n",
       "       [ 0.88678103,  0.53868342,  0.76426261,  0.41714587],\n",
       "       [ 0.93271537,  0.57351203,  0.80109659,  0.4567483 ],\n",
       "       [ 0.94267906,  0.6189367 ,  0.77020766,  0.56339737]])"
      ]
     },
     "execution_count": 29,
     "metadata": {},
     "output_type": "execute_result"
    }
   ],
   "source": [
    "# Train\n",
    "som.train()\n",
    "\n",
    "# Trained MAP\n",
    "plt.imshow(som.nodes.reshape((N, N, 4)),\n",
    "           interpolation='none')\n",
    "plt.show()\n",
    "som.nodes"
   ]
  },
  {
   "cell_type": "code",
   "execution_count": 30,
   "metadata": {
    "collapsed": false
   },
   "outputs": [
    {
     "data": {
      "text/plain": [
       "<matplotlib.image.AxesImage at 0xcd3dbe0>"
      ]
     },
     "execution_count": 30,
     "metadata": {},
     "output_type": "execute_result"
    },
    {
     "data": {
      "image/png": "[encoded data removed]",
      "text/plain": [
       "<matplotlib.figure.Figure at 0xbac5f98>"
      ]
     },
     "metadata": {},
     "output_type": "display_data"
    }
   ],
   "source": [
    "pred = KMeans(n_clusters=3).fit_predict(som.nodes)\n",
    "best_place = []\n",
    "gateway = [1.0,0.0,0.0]\n",
    "router = [0.0,1.0,0.0]\n",
    "cloud = [0.0,0.0,1.0]\n",
    "\n",
    "for i, pre in enumerate(pred):\n",
    "    if pre == 0:\n",
    "        best_place.append(gateway)\n",
    "    if pre == 1:\n",
    "        best_place.append(router)\n",
    "    if pre == 2:\n",
    "        best_place.append(cloud)\n",
    "\n",
    "best_place = np.array(best_place)\n",
    "plt.imshow(best_place.reshape((N, N, 3)),\n",
    "           interpolation='none')"
   ]
  },
  {
   "cell_type": "code",
   "execution_count": 31,
   "metadata": {
    "collapsed": false,
    "scrolled": true
   },
   "outputs": [
    {
     "data": {
      "text/plain": [
       "<matplotlib.image.AxesImage at 0xcf413c8>"
      ]
     },
     "execution_count": 31,
     "metadata": {},
     "output_type": "execute_result"
    },
    {
     "data": {
      "image/png": "[encoded data removed]",
      "text/plain": [
       "<matplotlib.figure.Figure at 0xce2c8d0>"
      ]
     },
     "metadata": {},
     "output_type": "display_data"
    }
   ],
   "source": [
    "pred = KMeans(n_clusters=4).fit_predict(som.nodes)\n",
    "best_place = []\n",
    "gateway = [1.0,0.0,0.0]\n",
    "router = [0.0,1.0,0.0]\n",
    "cloud = [0.0,0.0,1.0]\n",
    "aaa = [1.0,1.0,1.0]\n",
    "for i, pre in enumerate(pred):\n",
    "    if pre == 0:\n",
    "        best_place.append(gateway)\n",
    "    if pre == 1:\n",
    "        best_place.append(router)\n",
    "    if pre == 2:\n",
    "        best_place.append(cloud)\n",
    "    if pre == 3:\n",
    "        best_place.append(aaa)\n",
    "best_place = np.array(best_place)\n",
    "plt.imshow(best_place.reshape((N, N, 3)),\n",
    "           interpolation='none')"
   ]
  },
  {
   "cell_type": "code",
   "execution_count": 32,
   "metadata": {
    "collapsed": false
   },
   "outputs": [
    {
     "data": {
      "text/plain": [
       "<matplotlib.image.AxesImage at 0xc7f06d8>"
      ]
     },
     "execution_count": 32,
     "metadata": {},
     "output_type": "execute_result"
    },
    {
     "data": {
      "image/png": "[encoded data removed]",
      "text/plain": [
       "<matplotlib.figure.Figure at 0xcf53a58>"
      ]
     },
     "metadata": {},
     "output_type": "display_data"
    }
   ],
   "source": [
    "pred = KMeans(n_clusters=5).fit_predict(som.nodes)\n",
    "best_place = []\n",
    "gateway = [1.0,0.0,0.0]\n",
    "router = [0.0,1.0,0.0]\n",
    "cloud = [0.0,0.0,1.0]\n",
    "aaa = [1.0,1.0,1.0]\n",
    "bbb = [0.0,0.0,0.0]\n",
    "for i, pre in enumerate(pred):\n",
    "    if pre == 0:\n",
    "        best_place.append(gateway)\n",
    "    if pre == 1:\n",
    "        best_place.append(router)\n",
    "    if pre == 2:\n",
    "        best_place.append(cloud)\n",
    "    if pre == 3:\n",
    "        best_place.append(aaa)\n",
    "    if pre == 4:\n",
    "        best_place.append(bbb)\n",
    "best_place = np.array(best_place)\n",
    "plt.imshow(best_place.reshape((N, N, 3)),\n",
    "           interpolation='none')"
   ]
  },
  {
   "cell_type": "code",
   "execution_count": 33,
   "metadata": {
    "collapsed": false
   },
   "outputs": [
    {
     "data": {
      "text/plain": [
       "<matplotlib.image.AxesImage at 0xc64e470>"
      ]
     },
     "execution_count": 33,
     "metadata": {},
     "output_type": "execute_result"
    },
    {
     "data": {
      "image/png": "[encoded data removed]",
      "text/plain": [
       "<matplotlib.figure.Figure at 0xce36390>"
      ]
     },
     "metadata": {},
     "output_type": "display_data"
    }
   ],
   "source": [
    "pred = KMeans(n_clusters=6).fit_predict(som.nodes)\n",
    "best_place = []\n",
    "gateway = [1.0,0.0,0.0]\n",
    "router = [0.0,1.0,0.0]\n",
    "cloud = [0.0,0.0,1.0]\n",
    "aaa = [1.0,1.0,1.0]\n",
    "bbb = [0.0,0.0,0.0]\n",
    "ccc = [0.5,0.5,0.5]\n",
    "for i, pre in enumerate(pred):\n",
    "    if pre == 0:\n",
    "        best_place.append(gateway)\n",
    "    if pre == 1:\n",
    "        best_place.append(router)\n",
    "    if pre == 2:\n",
    "        best_place.append(cloud)\n",
    "    if pre == 3:\n",
    "        best_place.append(aaa)\n",
    "    if pre == 4:\n",
    "        best_place.append(bbb)\n",
    "    if pre == 5:\n",
    "        best_place.append(ccc)\n",
    "best_place = np.array(best_place)\n",
    "plt.imshow(best_place.reshape((N, N, 3)),\n",
    "           interpolation='none')"
   ]
  },
  {
   "cell_type": "code",
   "execution_count": 34,
   "metadata": {
    "collapsed": false
   },
   "outputs": [],
   "source": [
    "input_data=np.loadtxt(\"C:\\Users\\Tomomu-Iwai\\Downloads\\sampledataset3.csv\",delimiter=\",\")\n",
    "input_data = input_data[0:36]\n",
    "bmus = []\n",
    "for i, node in enumerate(som.nodes):\n",
    "    norms = np.linalg.norm(input_data - node, axis=1)\n",
    "    bmus.append(np.argmin(norms))"
   ]
  },
  {
   "cell_type": "code",
   "execution_count": 35,
   "metadata": {
    "collapsed": false
   },
   "outputs": [],
   "source": [
    "bmps = []\n",
    "gateway = [1.0,0.0,0.0]\n",
    "router = [0.0,1.0,0.0]\n",
    "cloud = [0.0,0.0,1.0]\n",
    "for i, bmu in enumerate(bmus):\n",
    "    if bmu >= 0 and bmu <=11:\n",
    "        bmps.append(gateway)\n",
    "    if bmu >= 12 and bmu <=23:\n",
    "        bmps.append(router)\n",
    "    if bmu >= 24 and bmu <=35:\n",
    "        bmps.append(cloud)"
   ]
  },
  {
   "cell_type": "code",
   "execution_count": 36,
   "metadata": {
    "collapsed": false,
    "scrolled": true
   },
   "outputs": [
    {
     "data": {
      "text/plain": [
       "<matplotlib.image.AxesImage at 0xa1b0fd0>"
      ]
     },
     "execution_count": 36,
     "metadata": {},
     "output_type": "execute_result"
    },
    {
     "data": {
      "image/png": "[encoded data removed]",
      "text/plain": [
       "<matplotlib.figure.Figure at 0xcf5e550>"
      ]
     },
     "metadata": {},
     "output_type": "display_data"
    }
   ],
   "source": [
    "hello = np.array(bmps)\n",
    "plt.imshow(hello.reshape((N, N, 3)),\n",
    "           interpolation='none')"
   ]
  },
  {
   "cell_type": "code",
   "execution_count": 37,
   "metadata": {
    "collapsed": false
   },
   "outputs": [
    {
     "name": "stdout",
     "output_type": "stream",
     "text": [
      "35\n",
      "[ 1.21182911  1.15714508  1.10215182  1.07009391  1.02040296  0.9675472\n",
      "  1.15396875  1.09296072  1.05551458  0.98648053  0.95055533  0.96658449\n",
      "  1.05476416  1.01643681  0.97608817  0.91586831  0.79663369  0.84508289\n",
      "  1.01970997  0.93715669  0.91593269  0.87125876  0.77610093  0.81881797\n",
      "  0.97540513  0.90096791  0.83471022  0.80328892  0.77170247  0.72791834\n",
      "  0.92789454  0.90257385  0.83132764  0.78798641  0.72187547  0.62603618]\n"
     ]
    }
   ],
   "source": [
    "most_cloud = [1.0,1.0,1.0,1.0]\n",
    "norms = np.linalg.norm(som.nodes - most_cloud, axis=1)\n",
    "print(np.argmin(norms))\n",
    "print(norms)"
   ]
  },
  {
   "cell_type": "code",
   "execution_count": 38,
   "metadata": {
    "collapsed": false
   },
   "outputs": [
    {
     "name": "stdout",
     "output_type": "stream",
     "text": [
      "0\n",
      "[ 0.81502623  0.86570084  0.91199937  0.94877373  1.01447919  1.07938545\n",
      "  0.8688655   0.94116362  0.96689162  1.06649135  1.10680654  1.10868099\n",
      "  0.95825025  1.00724896  1.07847802  1.17234645  1.27572619  1.27904414\n",
      "  1.01168089  1.09862701  1.15640629  1.24133019  1.33259593  1.31573905\n",
      "  1.07149955  1.15040356  1.24027687  1.31998226  1.38114569  1.43024261\n",
      "  1.1161241   1.17023177  1.26726702  1.35449933  1.43151974  1.47728226]\n"
     ]
    }
   ],
   "source": [
    "most_gateway = [0.0,0.0,0.0,0.0]\n",
    "norms = np.linalg.norm(som.nodes - most_gateway, axis=1)\n",
    "print(np.argmin(norms))\n",
    "print(norms)"
   ]
  },
  {
   "cell_type": "code",
   "execution_count": 39,
   "metadata": {
    "collapsed": false
   },
   "outputs": [
    {
     "data": {
      "text/plain": [
       "[[0.0, 0.0, 0.55170650175227265],\n",
       " [0.0, 0.0, 0.58600909635337006],\n",
       " [0.0, 0.0, 0.61734943544281029],\n",
       " [0.0, 0.0, 0.64224269043044857],\n",
       " [0.0, 0.0, 0.68671994492339739],\n",
       " [0.0, 0.0, 0.73065620392506747],\n",
       " [0.0, 0.0, 0.58815131096770323],\n",
       " [0.0, 0.0, 0.63709126235530911],\n",
       " [0.0, 0.0, 0.6545070289510091],\n",
       " [0.0, 0.0, 0.721927947034394],\n",
       " [0.0, 0.0, 0.74921805517172024],\n",
       " [0.0, 0.0, 0.75048690087711656],\n",
       " [0.0, 0.0, 0.64865752054802606],\n",
       " [0.0, 0.0, 0.68182566185608751],\n",
       " [0.0, 0.0, 0.73004194681511381],\n",
       " [0.0, 0.0, 0.79358324480937903],\n",
       " [0.0, 0.0, 0.86356292360951648],\n",
       " [0.0, 0.0, 0.86580890501654462],\n",
       " [0.0, 0.0, 0.68482571930789582],\n",
       " [0.0, 0.0, 0.74368117863371141],\n",
       " [0.0, 0.0, 0.78279304935557326],\n",
       " [0.0, 0.0, 0.84027962820028301],\n",
       " [0.0, 0.0, 0.90205911570672648],\n",
       " [0.0, 0.0, 0.89064837561722854],\n",
       " [0.0, 0.0, 0.72531809022075755],\n",
       " [0.0, 0.0, 0.77872969271598635],\n",
       " [0.0, 0.0, 0.83956661351483253],\n",
       " [0.0, 0.0, 0.89352068668506202],\n",
       " [0.0, 0.0, 0.93492335278681737],\n",
       " [0.0, 0.0, 0.96815797606201404],\n",
       " [0.0, 0.0, 0.75552528658045637],\n",
       " [0.0, 0.0, 0.79215177600216213],\n",
       " [0.0, 0.0, 0.8578367561667456],\n",
       " [0.0, 0.0, 0.91688593271860652],\n",
       " [0.0, 0.0, 0.96902249233348936],\n",
       " [0.0, 0.0, 1.0]]"
      ]
     },
     "execution_count": 39,
     "metadata": {},
     "output_type": "execute_result"
    }
   ],
   "source": [
    "cloud_closeness = []\n",
    "norms = norms/norms[35]\n",
    "for i, norm in enumerate(norms):\n",
    "    closeness = [0.0,0.0]\n",
    "    closeness.append(norm)\n",
    "    cloud_closeness.append(closeness)\n",
    "cloud_closeness"
   ]
  },
  {
   "cell_type": "code",
   "execution_count": 40,
   "metadata": {
    "collapsed": false
   },
   "outputs": [
    {
     "ename": "SyntaxError",
     "evalue": "EOL while scanning string literal (<ipython-input-40-b510089d7be4>, line 1)",
     "output_type": "error",
     "traceback": [
      "\u001b[0;36m  File \u001b[0;32m\"<ipython-input-40-b510089d7be4>\"\u001b[0;36m, line \u001b[0;32m1\u001b[0m\n\u001b[0;31m    'cloud_closeness = np.array(cloud_closeness)\u001b[0m\n\u001b[0m                                               ^\u001b[0m\n\u001b[0;31mSyntaxError\u001b[0m\u001b[0;31m:\u001b[0m EOL while scanning string literal\n"
     ]
    }
   ],
   "source": [
    "'cloud_closeness = np.array(cloud_closeness)\n",
    "plt.imshow(cloud_closeness.reshape((N, N, 3)),interpolation='none')"
   ]
  },
  {
   "cell_type": "markdown",
   "metadata": {},
   "source": [
    "# 層構造のトポロジーにおいて、どの層に配置すべきかは推定できる\n",
    "⇒　層依存の入力はSOMとk-meansを用いて、分類・決定"
   ]
  },
  {
   "cell_type": "markdown",
   "metadata": {},
   "source": [
    "# 層内のノード選択は、AHPで行う？?"
   ]
  },
  {
   "cell_type": "markdown",
   "metadata": {
    "collapsed": true
   },
   "source": [
    "bandwidth\n",
    "対象人数\n",
    "セッション数\n",
    "メンテナンス方法\n",
    "adminサービス管理頻度\n",
    "admin人数\n",
    "同時に接続する数\n",
    "\n",
    "寺岡研"
   ]
  },
  {
   "cell_type": "code",
   "execution_count": null,
   "metadata": {
    "collapsed": true
   },
   "outputs": [],
   "source": []
  }
 ],
 "metadata": {
  "kernelspec": {
   "display_name": "Python 2",
   "language": "python",
   "name": "python2"
  },
  "language_info": {
   "codemirror_mode": {
    "name": "ipython",
    "version": 2
   },
   "file_extension": ".py",
   "mimetype": "text/x-python",
   "name": "python",
   "nbconvert_exporter": "python",
   "pygments_lexer": "ipython2",
   "version": "2.7.13"
  }
 },
 "nbformat": 4,
 "nbformat_minor": 2
}
