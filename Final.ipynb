{
 "cells": [
  {
   "cell_type": "markdown",
   "metadata": {},
   "source": [
    "# ライブラリの挿入"
   ]
  },
  {
   "cell_type": "code",
   "execution_count": 1,
   "metadata": {
    "collapsed": false
   },
   "outputs": [],
   "source": [
    "import numpy as np\n",
    "from matplotlib import pyplot as plt\n",
    "from collections import Counter\n",
    "%matplotlib inline\n",
    "np.set_printoptions(threshold=np.inf)\n",
    "from sklearn.neighbors import KNeighborsClassifier"
   ]
  },
  {
   "cell_type": "markdown",
   "metadata": {},
   "source": [
    "# SOM関数"
   ]
  },
  {
   "cell_type": "code",
   "execution_count": 2,
   "metadata": {
    "collapsed": true
   },
   "outputs": [],
   "source": [
    "class SOM():\n",
    "    \n",
    "    def __init__(self, services, N, times, seed=None,):\n",
    "        self.services = np.array(services) #services をnumpy arrayに変換\n",
    "        self.n_service = self.services.shape[0] #serviceのデータ数\n",
    "        self.N = N #マップの大きさ\n",
    "        self.times = times #学習回数\n",
    "        if not seed is None:\n",
    "            np.random.seed(seed) #seedが指定されていれば、seedを取得\n",
    "            \n",
    "        x, y = np.meshgrid(range(self.N), range(self.N)) # xは、[0,1,2,...19]が20個　yは、[0,0,0,...,0][1,1,1,1...,1]を19まで\n",
    "        self.c = np.hstack((x.flatten()[:, np.newaxis],\n",
    "                            y.flatten()[:, np.newaxis]))#xとyを合わせて座標軸の作成array[[0,1],[0,2],...,[19,19]]\n",
    "        self.nodes = self.services #19*19の三値の乱数を作成\n",
    "    \n",
    "    \n",
    "        #W(t+1)=W(t)+Φ(t)L(t)(V(t)-W(t))\n",
    "        \n",
    "    def train(self):\n",
    "        for var in range(self.times):\n",
    "            np.random.shuffle(self.services)\n",
    "            for i, service in enumerate(self.services): #self.techers の中にある全ての要素をserviceとして取り出し #iはtとして\n",
    "                bmu = self._best_matching_unit(service) #bmuを見つける座標をbmuに格納\n",
    "                d = np.linalg.norm(self.c - bmu, axis=1) #dの中にはbmuと各点間の距離を格納している\n",
    "                L = self._learning_ratio(i) #ここの中にL(t)を格納\n",
    "                S = self._learning_radius(i, d) #ここの中にΦ(t)を格納\n",
    "                self.nodes += L * S[:, np.newaxis] * (service - self.nodes) #W(t)（Sは場所に依存する配列）\n",
    "        return self.nodes        #compute all norms (square)\n",
    "\n",
    "\n",
    "    def _best_matching_unit(self, service):\n",
    "        norms = np.linalg.norm(self.nodes - service, axis=1) #全てのノードとserviceを比較して、ノルムを計算\n",
    "        bmu = np.argmin(norms) #argment with minimum element　normsのなかで一番小さいノルムを取得 ここで返すのは、インデックスのみ\n",
    "        return np.unravel_index(bmu,(self.N, self.N)) #返す値は、インデックス番号がどれに値するかという情報\n",
    "\n",
    "    #σ(t)\n",
    "    def _neighbourhood(self, t):#neighbourhood radious 更新するノード数は徐々に減っていく\n",
    "        halflife = float(self.n_service/4) #for testing\n",
    "        initial  = float(self.N/2) #initial=20/2=10\n",
    "        return initial*np.exp(-t/halflife) #10exp(-t/250)のレートで下がっていくt=0で10,t=250で5\n",
    "    \n",
    "    #L(t)\n",
    "    def _learning_ratio(self, t): #learning関数\n",
    "        halflife = float(self.n_service/4) #for testing\n",
    "        initial  = 0.1\n",
    "        return initial*np.exp(-t/halflife) #初期の更新係数は0.1そこから、だんだん更新度合いは減少していく\n",
    "    \n",
    "    #Φ(t)=exp((-dist^2)/(2σ^2(t)))\n",
    "    #distはBMUからの距離でいい\n",
    "    def _learning_radius(self, t, d):\n",
    "        # d is distance from BMU\n",
    "        s = self._neighbourhood(t) #sは、時間tの近傍半径\n",
    "        return np.exp(-d**2/(2*s**2))  #近傍関数の値を返す（近ければ近いほど、大きい）Sも配列になる\n",
    "    "
   ]
  },
  {
   "cell_type": "markdown",
   "metadata": {},
   "source": [
    "# Determine関数\n",
    "場所がDeterminできた場合はその場所の番号を、それ以外の場合は0を返す関数"
   ]
  },
  {
   "cell_type": "code",
   "execution_count": 3,
   "metadata": {
    "collapsed": false
   },
   "outputs": [],
   "source": [
    "class DETERMINE():\n",
    "    \n",
    "    # servicesは入力データ\n",
    "    # NはDeterministicな入力値の数\n",
    "    # （例）\n",
    "    # services[0] = [2,1,3,1,2,0,4,23,2,243,,54,213]\n",
    "    #                N,N,N,N   \n",
    "    \n",
    "    def __init__(self, services, N):\n",
    "        self.services = np.array(services) # services\n",
    "        self.n_service = self.services.shape[0] # おそらく、serviceのデータ数\n",
    "        self.N = N # Deterministicな値の数\n",
    "        self.d_place = np.array([])# \n",
    "    \n",
    "    \n",
    "    def train(self):\n",
    "        for i, service in enumerate(self.services): # servicesをserviceごとに分ける。iはserviceごとに1ずつ加算される\n",
    "            for j in range(self.N): # serviceをattributeごとに分ける。\n",
    "                if j == 0: # 初めてのattributeの場合は、d_placeの中に入れる\n",
    "                    self.d_place = np.append(self.d_place, service[j])\n",
    "                else:\n",
    "                    if self.d_place[i] != service[j]:\n",
    "                        self.d_place[i] = np.nan\n",
    "        return self.d_place"
   ]
  },
  {
   "cell_type": "markdown",
   "metadata": {},
   "source": [
    "# kNN関数"
   ]
  },
  {
   "cell_type": "code",
   "execution_count": 4,
   "metadata": {
    "collapsed": false
   },
   "outputs": [],
   "source": [
    "class KNN(): \n",
    "    \n",
    "    def __init__(self, det_labels,som_nodes, new_comer, N):\n",
    "        self.som_nodes = som_nodes\n",
    "        self.d_labels = det_labels # som nodes\n",
    "        self.new_comer = new_comer # おそらく、serviceのデータ数\n",
    "        self.N = N # Deterministicな値の数 \n",
    "        self.nearby_places = np.array([]) # self.nearby_placesには、入っている周りの座標が入っている\n",
    "        self.places = np.array([])#nearby_placesの実行位置を格納\n",
    "        self.score_0 = 0#ユークリッド距離を格納\n",
    "        self.score_2 = 0\n",
    "        self.score_4 = 0\n",
    "        self.score_6 = 0\n",
    "        self.score_8 = 0\n",
    "        self.score_10 = 0\n",
    "        self.scores = np.array([]) #競合した者たちのスコアを格納\n",
    "    \n",
    "    def train(self):\n",
    "        # \n",
    "        bmu = self._best_matching_unit(self.new_comer)\n",
    "        bmu_place = np.asarray(bmu)\n",
    "        bmu_upleft = np.array([bmu[0] - 1, bmu[1] - 1])\n",
    "        bmu_up = np.array([bmu[0] - 1, bmu[1]])\n",
    "        bmu_upright = np.array([bmu[0] - 1, bmu[1] + 1])\n",
    "        bmu_left = np.array([bmu[0], bmu[1] - 1])\n",
    "        bmu_right = np.array([bmu[0], bmu[1] + 1])\n",
    "        bmu_downleft = np.array([bmu[0] + 1, bmu[1] - 1])\n",
    "        bmu_down = np.array([bmu[0] + 1, bmu[1]])\n",
    "        bmu_downright = np.array([bmu[0] + 1, bmu[1] + 1])\n",
    "        self.nearby_places = np.append(self.nearby_places,bmu_place)\n",
    "        self.nearby_places = np.append(self.nearby_places,bmu_upleft)\n",
    "        self.nearby_places = np.append(self.nearby_places,bmu_up)\n",
    "        self.nearby_places = np.append(self.nearby_places,bmu_upright)\n",
    "        self.nearby_places = np.append(self.nearby_places,bmu_left)\n",
    "        self.nearby_places = np.append(self.nearby_places,bmu_right)\n",
    "        self.nearby_places = np.append(self.nearby_places,bmu_downleft)\n",
    "        self.nearby_places = np.append(self.nearby_places,bmu_down)\n",
    "        self.nearby_places = np.append(self.nearby_places,bmu_downright)\n",
    "        self.nearby_places = self.nearby_places.reshape((1,9,2))[0]\n",
    "        self.nearby_places = np.delete(self.nearby_places, np.where(self.nearby_places < 0)[0], 0)\n",
    "        self.nearby_places = np.delete(self.nearby_places, np.where(self.nearby_places > N - 1)[0], 0)\n",
    "        # self.nearby_placesには、入っている周りの座標が入っている\n",
    "        \n",
    "        # 競合に備えて、各実行場所ごとのスコアを作成\n",
    "        for i, nplace in enumerate(self.nearby_places):\n",
    "            index = int(nplace[0] * self.N + nplace[1])\n",
    "            d_label = self.d_labels[index]\n",
    "            self.places = np.append(self.places,d_label)\n",
    "            if d_label == 0.0:\n",
    "                self.score_0 += np.linalg.norm(self.som_nodes[index] - self.new_comer)\n",
    "            elif d_label == 0.2:\n",
    "                self.score_2 +=  np.linalg.norm(self.som_nodes[index] - self.new_comer)\n",
    "            elif d_label == 0.4:\n",
    "                self.score_4 +=  np.linalg.norm(self.som_nodes[index] - self.new_comer)\n",
    "            elif d_label == 0.6:\n",
    "                self.score_6 += np.linalg.norm(self.som_nodes[index] - self.new_comer)\n",
    "            elif d_label == 0.8:\n",
    "                self.score_8 += np.linalg.norm(self.som_nodes[index] - self.new_comer)\n",
    "            elif d_label == 1.0:\n",
    "                self.score_10 += np.linalg.norm(self.som_nodes[index] - self.new_comer)\n",
    "\n",
    "        # 実行場所から、nanは削除        \n",
    "        self.places = np.delete(self.places, np.where(np.isnan(self.places))[0], 0)\n",
    "        #最頻値を導出\n",
    "        if len(self.places) != 0:\n",
    "            self.result = self.calculate_mode(self.places)\n",
    "        \n",
    "            #scoresの中に各実行場所のスコアを入れ込む\n",
    "            for i, result in enumerate(self.result):\n",
    "                if result == 0.0:\n",
    "                    self.scores = np.append(self.scores, self.score_0)\n",
    "                if result == 0.2:\n",
    "                    self.scores = np.append(self.scores, self.score_2)\n",
    "                if result == 0.4:\n",
    "                    self.scores = np.append(self.scores, self.score_4)\n",
    "                if result == 0.6:\n",
    "                    self.scores = np.append(self.scores, self.score_6)\n",
    "                if result == 0.8:\n",
    "                    self.scores = np.append(self.scores, self.score_8)\n",
    "                if result == 1.0:\n",
    "                    self.scores = np.append(self.scores, self.score_10)\n",
    "\n",
    "            #一番スコアが小さいところを選べ\n",
    "            min_length = min(self.scores)\n",
    "            if min_length == self.score_0:\n",
    "                self.result = 0.0\n",
    "            elif min_length == self.score_2:\n",
    "                self.result = 0.2\n",
    "            elif min_length == self.score_4:\n",
    "                self.result = 0.4\n",
    "            elif min_length == self.score_6:\n",
    "                self.result = 0.6\n",
    "            elif min_length == self.score_8:\n",
    "                self.result = 0.8\n",
    "            elif min_length == self.score_10:\n",
    "                self.result = 1.0\n",
    "            return self.result\n",
    "        else:\n",
    "            self.result = \"Anywhere\"\n",
    "            return \"Anywhere\"\n",
    "        \n",
    "    def _best_matching_unit(self, service):\n",
    "        norms = np.linalg.norm(self.som_nodes - service, axis=1)\n",
    "        bmu = np.argmin(norms)\n",
    "        return np.unravel_index(bmu,(self.N, self.N))\n",
    "\n",
    "\n",
    "    def calculate_mode(self,data):\n",
    "        c = Counter(data)\n",
    "        # すべての要素とその出現回数を取り出します。\n",
    "        freq_scores = c.most_common()\n",
    "        #c.most_common内の最も多い要素[0]の最大出現回数[1]を[0][1]で指定\n",
    "        max_count = freq_scores[0][1]\n",
    "\n",
    "        modes = []\n",
    "         #出現回数と最大出現回数が等しいかを確認します。\n",
    "        for num in freq_scores:\n",
    "            if num[1] == max_count:\n",
    "                modes.append(float(num[0]))\n",
    "        return(modes)"
   ]
  },
  {
   "cell_type": "markdown",
   "metadata": {},
   "source": [
    "# ランダムデータセットの作成\n",
    "最初に、10種類のパラメータを持つデータを乱数で作成してみる。  \n",
    "2種類のdeterministicなパラメータとそれ以外のnon-deterministicなパラメータを考える。  \n",
    "### Determistic　　\n",
    "匿名度合　許容遅延\n",
    "### Non-Determistic\n",
    "Rootユーザ数　たんいじかんあ"
   ]
  },
  {
   "cell_type": "markdown",
   "metadata": {
    "collapsed": true
   },
   "source": [
    "# 実際のテスト"
   ]
  },
  {
   "cell_type": "code",
   "execution_count": 8,
   "metadata": {
    "collapsed": false
   },
   "outputs": [],
   "source": [
    "services = np.array([])\n",
    "sample = np.array([])\n",
    "rand_int2 = np.array([])\n",
    "probability = np.array([])\n",
    "rand_choice = [0.0,0.2,0.4,0.6,0.8,1.0]\n",
    "rand_int = np.random.choice(rand_choice, size=(100,1))\n",
    "rand_float = np.random.rand(100,18)\n",
    "for i in range(100):\n",
    "    probability = np.append(probability,np.random.rand())\n",
    "    if probability[i] > 0.2:\n",
    "        rand_int2 = np.append(rand_int2, np.random.choice(rand_choice))\n",
    "    else:\n",
    "        rand_int2 = np.append(rand_int2, rand_int[i])\n",
    "    sample = np.append(rand_int[i],rand_int2[i])\n",
    "    sample = np.append(sample,rand_float[i])\n",
    "    services = np.hstack((services,sample))\n",
    "services = services.reshape((1, 100, 20))[0]\n",
    "det_label = DETERMINE(services, N=2)\n",
    "det_label.train()\n",
    "som = SOM(services, N=10, times=1, seed=10)\n",
    "N = 10"
   ]
  },
  {
   "cell_type": "code",
   "execution_count": 9,
   "metadata": {
    "collapsed": false,
    "scrolled": true
   },
   "outputs": [
    {
     "data": {
      "text/plain": [
       "<matplotlib.image.AxesImage at 0x9ea7c50>"
      ]
     },
     "execution_count": 9,
     "metadata": {},
     "output_type": "execute_result"
    },
    {
     "data": {
      "image/png": "[encoded data removed]",
      "text/plain": [
       "<matplotlib.figure.Figure at 0x9981e48>"
      ]
     },
     "metadata": {},
     "output_type": "display_data"
    }
   ],
   "source": [
    "best_color = []\n",
    "best_place = []\n",
    "aaa = [1.0,1.0,1.0]\n",
    "bbb = [0.0,1.0,0.0]\n",
    "ccc = [0.0,0.0,1.0]\n",
    "ddd = [0.0,0.0,0.0]\n",
    "eee = [1.0,0.0,0.0]\n",
    "fff = [0.5,0.5,0.5]\n",
    "ggg = [0.0,1.0,1.0]\n",
    "for j, service in enumerate(som.nodes):\n",
    "    norms = np.linalg.norm(services - service, axis=1)\n",
    "    bmu = np.argmin(norms)\n",
    "    if np.isnan(det_label.d_place[bmu]):\n",
    "        best_color.append(aaa)\n",
    "        best_place.append(np.nan)\n",
    "    if det_label.d_place[bmu] == 0.0:\n",
    "        best_color.append(bbb)\n",
    "        best_place.append(0.0)\n",
    "    if det_label.d_place[bmu] == 0.2:\n",
    "        best_color.append(ccc)\n",
    "        best_place.append(0.2)\n",
    "    if det_label.d_place[bmu] == 0.4:\n",
    "        best_color.append(ddd)\n",
    "        best_place.append(0.4)\n",
    "    if det_label.d_place[bmu] == 0.6:\n",
    "        best_color.append(eee)\n",
    "        best_place.append(0.6)\n",
    "    if det_label.d_place[bmu] == 0.8:\n",
    "        best_color.append(fff)\n",
    "        best_place.append(0.8)\n",
    "    if det_label.d_place[bmu] == 1.0:\n",
    "        best_color.append(ggg)\n",
    "        best_place.append(1.0)\n",
    "best_color = np.array(best_color)\n",
    "best_place = np.array(best_place)\n",
    "plt.imshow(best_color.reshape((10, 10, 3)),\n",
    "           interpolation='none')"
   ]
  },
  {
   "cell_type": "markdown",
   "metadata": {},
   "source": [
    "# これで、SOMは終わり"
   ]
  },
  {
   "cell_type": "markdown",
   "metadata": {},
   "source": [
    "# ここからは、k-Nearest Neighbor"
   ]
  },
  {
   "cell_type": "markdown",
   "metadata": {},
   "source": [
    "## もし、new_comerが決定的だった場合は、そこに決定する"
   ]
  },
  {
   "cell_type": "code",
   "execution_count": 14,
   "metadata": {
    "collapsed": false,
    "scrolled": true
   },
   "outputs": [
    {
     "data": {
      "text/plain": [
       "0.0"
      ]
     },
     "execution_count": 14,
     "metadata": {},
     "output_type": "execute_result"
    }
   ],
   "source": [
    "new_comer =  np.array([np.append(np.random.choice(rand_choice, size=(1,2)),np.random.rand(1,18))])\n",
    "det_newcomer = DETERMINE(new_comer, N=2)\n",
    "det_newcomer.train()\n",
    "if np.isnan(det_newcomer.d_place):\n",
    "    knn = KNN(best_place,som.nodes,new_comer,10)\n",
    "    knn.train()\n",
    "    result = knn.result\n",
    "else:\n",
    "    result = float(det_newcomer.d_place[0])\n",
    "result"
   ]
  },
  {
   "cell_type": "code",
   "execution_count": null,
   "metadata": {
    "collapsed": true
   },
   "outputs": [],
   "source": []
  }
 ],
 "metadata": {
  "kernelspec": {
   "display_name": "Python 2",
   "language": "python",
   "name": "python2"
  },
  "language_info": {
   "codemirror_mode": {
    "name": "ipython",
    "version": 2
   },
   "file_extension": ".py",
   "mimetype": "text/x-python",
   "name": "python",
   "nbconvert_exporter": "python",
   "pygments_lexer": "ipython2",
   "version": "2.7.13"
  }
 },
 "nbformat": 4,
 "nbformat_minor": 2
}
