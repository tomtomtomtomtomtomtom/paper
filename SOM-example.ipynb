{
 "cells": [
  {
   "cell_type": "code",
   "execution_count": 2,
   "metadata": {
    "collapsed": false
   },
   "outputs": [],
   "source": [
    "import numpy as np\n",
    "import matplotlib.pyplot as plt\n",
    "# SOMクラスをインポート\n",
    "from sompy import SOM\n",
    "import pandas as pd\n",
    "from sklearn.datasets import fetch_california_housing"
   ]
  },
  {
   "cell_type": "code",
   "execution_count": 3,
   "metadata": {
    "collapsed": false
   },
   "outputs": [
    {
     "data": {
      "text/plain": [
       "array([[ 0.1668692 ,  0.64538557,  0.80205044],\n",
       "       [ 0.65335755,  0.40506232,  0.69550217],\n",
       "       [ 0.26428948,  0.93573959,  0.75873705],\n",
       "       ..., \n",
       "       [ 0.23896674,  0.6778919 ,  0.53428504],\n",
       "       [ 0.09041618,  0.96529042,  0.32091961],\n",
       "       [ 0.95758263,  0.65420774,  0.53062779]])"
      ]
     },
     "execution_count": 3,
     "metadata": {},
     "output_type": "execute_result"
    }
   ],
   "source": [
    "input_data = np.random.rand(1000, 3)\n",
    "input_data"
   ]
  },
  {
   "cell_type": "code",
   "execution_count": 10,
   "metadata": {
    "collapsed": false
   },
   "outputs": [],
   "source": [
    "output_shape = (20, 20)"
   ]
  },
  {
   "cell_type": "code",
   "execution_count": 11,
   "metadata": {
    "collapsed": false
   },
   "outputs": [],
   "source": [
    "som = SOM(output_shape, input_data)"
   ]
  },
  {
   "cell_type": "code",
   "execution_count": 12,
   "metadata": {
    "collapsed": false
   },
   "outputs": [],
   "source": [
    "som.set_parameter(neighbor=0.26, learning_rate=0.22)"
   ]
  },
  {
   "cell_type": "code",
   "execution_count": 13,
   "metadata": {
    "collapsed": false
   },
   "outputs": [],
   "source": [
    "output_map = som.train(50000)"
   ]
  },
  {
   "cell_type": "code",
   "execution_count": 14,
   "metadata": {
    "collapsed": false
   },
   "outputs": [
    {
     "data": {
      "text/plain": [
       "<matplotlib.image.AxesImage at 0xc7772b0>"
      ]
     },
     "execution_count": 14,
     "metadata": {},
     "output_type": "execute_result"
    }
   ],
   "source": [
    "plt.imshow(output_map, interpolation='none')"
   ]
  },
  {
   "cell_type": "code",
   "execution_count": 15,
   "metadata": {
    "collapsed": false
   },
   "outputs": [
    {
     "data": {
      "image/png": "[encoded data removed]",
      "text/plain": [
       "<matplotlib.figure.Figure at 0xc7f6ef0>"
      ]
     },
     "metadata": {},
     "output_type": "display_data"
    }
   ],
   "source": [
    "plt.show()"
   ]
  },
  {
   "cell_type": "code",
   "execution_count": 17,
   "metadata": {
    "collapsed": false
   },
   "outputs": [
    {
     "data": {
      "text/plain": [
       "41"
      ]
     },
     "execution_count": 17,
     "metadata": {},
     "output_type": "execute_result"
    }
   ],
   "source": [
    "len(input_data)"
   ]
  },
  {
   "cell_type": "code",
   "execution_count": 18,
   "metadata": {
    "collapsed": false
   },
   "outputs": [
    {
     "data": {
      "text/plain": [
       "20"
      ]
     },
     "execution_count": 18,
     "metadata": {},
     "output_type": "execute_result"
    }
   ],
   "source": [
    "len(output_map)"
   ]
  },
  {
   "cell_type": "code",
   "execution_count": 19,
   "metadata": {
    "collapsed": false
   },
   "outputs": [],
   "source": [
    "input_data=np.loadtxt(\"C:\\Users\\Tomomu-Iwai\\Downloads\\sampledataset.csv\",delimiter=\",\")"
   ]
  },
  {
   "cell_type": "code",
   "execution_count": 20,
   "metadata": {
    "collapsed": false
   },
   "outputs": [
    {
     "data": {
      "text/plain": [
       "array([[ 1.6       ,  2.        ,  0.33333333,  1.        ],\n",
       "       [ 2.        ,  2.        ,  0.33333333,  1.        ],\n",
       "       [ 1.2       ,  1.2       ,  0.66666667,  0.33333333],\n",
       "       [ 1.2       ,  1.2       ,  0.66666667,  1.        ],\n",
       "       [ 1.2       ,  1.2       ,  0.66666667,  0.33333333],\n",
       "       [ 1.2       ,  1.2       ,  0.66666667,  1.        ],\n",
       "       [ 1.2       ,  0.8       ,  0.66666667,  0.33333333],\n",
       "       [ 0.4       ,  0.4       ,  0.66666667,  0.33333333],\n",
       "       [ 0.4       ,  0.4       ,  0.66666667,  0.66666667],\n",
       "       [ 1.2       ,  0.8       ,  0.66666667,  0.33333333],\n",
       "       [ 2.        ,  1.6       ,  1.        ,  0.33333333],\n",
       "       [ 1.2       ,  0.4       ,  0.33333333,  0.33333333],\n",
       "       [ 2.        ,  0.4       ,  0.33333333,  0.33333333],\n",
       "       [ 0.8       ,  0.8       ,  0.66666667,  0.66666667],\n",
       "       [ 0.4       ,  0.8       ,  0.33333333,  0.66666667],\n",
       "       [ 0.4       ,  0.8       ,  0.66666667,  0.66666667],\n",
       "       [ 1.2       ,  1.2       ,  0.33333333,  0.66666667],\n",
       "       [ 0.4       ,  0.4       ,  0.66666667,  0.33333333],\n",
       "       [ 0.4       ,  0.4       ,  0.66666667,  0.66666667],\n",
       "       [ 1.6       ,  0.4       ,  0.33333333,  0.33333333],\n",
       "       [ 2.        ,  1.6       ,  0.66666667,  0.66666667],\n",
       "       [ 0.8       ,  1.2       ,  0.66666667,  1.        ],\n",
       "       [ 0.8       ,  1.2       ,  0.66666667,  0.66666667],\n",
       "       [ 1.6       ,  0.4       ,  0.33333333,  0.33333333],\n",
       "       [ 2.        ,  1.6       ,  0.33333333,  1.        ],\n",
       "       [ 0.4       ,  1.2       ,  0.66666667,  0.33333333],\n",
       "       [ 0.4       ,  2.        ,  0.66666667,  0.33333333],\n",
       "       [ 1.2       ,  1.2       ,  0.66666667,  0.33333333],\n",
       "       [ 0.4       ,  1.2       ,  0.33333333,  0.33333333],\n",
       "       [ 1.2       ,  2.        ,  1.        ,  0.33333333],\n",
       "       [ 1.2       ,  1.2       ,  0.33333333,  0.33333333],\n",
       "       [ 1.2       ,  1.6       ,  0.66666667,  0.33333333],\n",
       "       [ 2.        ,  1.6       ,  0.66666667,  0.33333333],\n",
       "       [ 0.4       ,  0.8       ,  0.33333333,  0.33333333],\n",
       "       [ 2.        ,  1.2       ,  0.66666667,  0.33333333],\n",
       "       [ 2.        ,  1.2       ,  0.66666667,  0.33333333],\n",
       "       [ 2.        ,  1.6       ,  0.66666667,  1.        ],\n",
       "       [ 0.8       ,  1.2       ,  0.66666667,  0.33333333],\n",
       "       [ 0.8       ,  0.4       ,  0.66666667,  0.33333333]])"
      ]
     },
     "execution_count": 20,
     "metadata": {},
     "output_type": "execute_result"
    }
   ],
   "source": [
    "input_data = input_data[1:40]\n",
    "input_data"
   ]
  },
  {
   "cell_type": "code",
   "execution_count": 21,
   "metadata": {
    "collapsed": false
   },
   "outputs": [],
   "source": [
    "som = SOM(output_shape, input_data)"
   ]
  },
  {
   "cell_type": "code",
   "execution_count": 22,
   "metadata": {
    "collapsed": true
   },
   "outputs": [],
   "source": [
    "som.set_parameter(neighbor=0.4, learning_rate=0.3)"
   ]
  },
  {
   "cell_type": "code",
   "execution_count": 23,
   "metadata": {
    "collapsed": false
   },
   "outputs": [],
   "source": [
    "output_map = som.train(1000)"
   ]
  },
  {
   "cell_type": "code",
   "execution_count": 24,
   "metadata": {
    "collapsed": false
   },
   "outputs": [
    {
     "data": {
      "text/plain": [
       "<matplotlib.image.AxesImage at 0xcede978>"
      ]
     },
     "execution_count": 24,
     "metadata": {},
     "output_type": "execute_result"
    }
   ],
   "source": [
    "plt.imshow(output_map, interpolation='none')"
   ]
  },
  {
   "cell_type": "code",
   "execution_count": 25,
   "metadata": {
    "collapsed": false
   },
   "outputs": [
    {
     "data": {
      "image/png": "[encoded data removed]",
      "text/plain": [
       "<matplotlib.figure.Figure at 0xca47898>"
      ]
     },
     "metadata": {},
     "output_type": "display_data"
    }
   ],
   "source": [
    "plt.show()"
   ]
  },
  {
   "cell_type": "code",
   "execution_count": 106,
   "metadata": {
    "collapsed": true
   },
   "outputs": [],
   "source": [
    "output_shape = (20, 20)"
   ]
  },
  {
   "cell_type": "code",
   "execution_count": 109,
   "metadata": {
    "collapsed": false
   },
   "outputs": [
    {
     "data": {
      "text/plain": [
       "<matplotlib.image.AxesImage at 0x252c2e48>"
      ]
     },
     "execution_count": 109,
     "metadata": {},
     "output_type": "execute_result"
    }
   ],
   "source": [
    "som = SOM(output_shape, input_data)\n",
    "output_map = som.train(30000000)\n",
    "plt.imshow(output_map, interpolation='none')"
   ]
  },
  {
   "cell_type": "code",
   "execution_count": 108,
   "metadata": {
    "collapsed": false
   },
   "outputs": [
    {
     "data": {
      "image/png": "[encoded data removed]",
      "text/plain": [
       "<matplotlib.figure.Figure at 0xdcfcb38>"
      ]
     },
     "metadata": {},
     "output_type": "display_data"
    }
   ],
   "source": [
    "plt.show()"
   ]
  },
  {
   "cell_type": "code",
   "execution_count": 110,
   "metadata": {
    "collapsed": false
   },
   "outputs": [
    {
     "data": {
      "image/png": "[encoded data removed]",
      "text/plain": [
       "<matplotlib.figure.Figure at 0x2523aa20>"
      ]
     },
     "metadata": {},
     "output_type": "display_data"
    }
   ],
   "source": [
    "plt.show()"
   ]
  },
  {
   "cell_type": "code",
   "execution_count": 117,
   "metadata": {
    "collapsed": false
   },
   "outputs": [
    {
     "data": {
      "text/plain": [
       "<matplotlib.image.AxesImage at 0x4c03e7b8>"
      ]
     },
     "execution_count": 117,
     "metadata": {},
     "output_type": "execute_result"
    }
   ],
   "source": [
    "som = SOM(output_shape, input_data)\n",
    "output_map = som.train(0)\n",
    "plt.imshow(output_map, interpolation='none')"
   ]
  },
  {
   "cell_type": "code",
   "execution_count": 118,
   "metadata": {
    "collapsed": false
   },
   "outputs": [
    {
     "data": {
      "image/png": "[encoded data removed]",
      "text/plain": [
       "<matplotlib.figure.Figure at 0xdf3bc88>"
      ]
     },
     "metadata": {},
     "output_type": "display_data"
    }
   ],
   "source": [
    "plt.show()"
   ]
  },
  {
   "cell_type": "code",
   "execution_count": 29,
   "metadata": {
    "collapsed": false
   },
   "outputs": [
    {
     "data": {
      "image/png": "[encoded data removed]",
      "text/plain": [
       "<matplotlib.figure.Figure at 0x4ce19e8>"
      ]
     },
     "metadata": {},
     "output_type": "display_data"
    }
   ],
   "source": [
    "input_data=np.loadtxt(\"C:\\Users\\Tomomu-Iwai\\Downloads\\sampledataset.csv\",delimiter=\",\")\n",
    "som = SOM(output_shape, input_data)\n",
    "som.set_parameter(neighbor=0.7, learning_rate=0.5)\n",
    "output_map = som.train(100000)\n",
    "plt.imshow(output_map, interpolation='none')\n",
    "plt.show()"
   ]
  },
  {
   "cell_type": "code",
   "execution_count": 30,
   "metadata": {
    "collapsed": false
   },
   "outputs": [
    {
     "data": {
      "text/plain": [
       "array([[[ 1.21992924,  0.84237777,  0.67582613,  0.33301714],\n",
       "        [ 1.3750008 ,  0.8046942 ,  0.57650341,  0.09148182],\n",
       "        [ 1.4494123 ,  0.82328848,  0.54148521,  0.16588975],\n",
       "        ..., \n",
       "        [ 0.85582361,  1.37797953,  0.34257336,  0.12894867],\n",
       "        [ 1.25674341,  0.56765802,  0.35672616,  0.16008275],\n",
       "        [ 0.79464222,  0.90544188,  0.74388863,  0.06675505]],\n",
       "\n",
       "       [[ 1.48967697,  1.0376799 ,  0.61883253,  0.36184854],\n",
       "        [ 1.26014714,  1.06067831,  0.5876627 ,  0.30587296],\n",
       "        [ 1.39301026,  0.98679813,  0.65657159,  0.26595441],\n",
       "        ..., \n",
       "        [ 0.68123733,  1.05810851,  0.45642246,  0.31706236],\n",
       "        [ 0.78433131,  0.95163083,  0.00374534,  0.23606872],\n",
       "        [ 0.96084891,  0.74741269,  0.23345328,  0.28756677]],\n",
       "\n",
       "       [[ 1.31709889,  1.02303327,  0.59054878,  0.32291345],\n",
       "        [ 1.46577827,  0.84874349,  0.58229733,  0.27632352],\n",
       "        [ 1.14648814,  0.95281925,  0.50597794,  0.43073744],\n",
       "        ..., \n",
       "        [ 0.99438631,  1.14635537,  0.32568201,  0.38108094],\n",
       "        [ 1.16815165,  0.90000726,  0.53900067,  0.57532338],\n",
       "        [ 1.09372428,  1.09762366,  0.13910886,  0.15464074]],\n",
       "\n",
       "       ..., \n",
       "       [[ 0.98486579,  0.83463157,  0.58782127,  0.51281317],\n",
       "        [ 1.21017187,  0.87203664,  0.4519082 ,  0.34837994],\n",
       "        [ 1.08701261,  1.0642905 ,  0.38299155,  0.14438895],\n",
       "        ..., \n",
       "        [ 0.50612262,  0.87687174,  0.61759966,  0.19591536],\n",
       "        [ 0.63857824,  0.92883134,  0.77044291,  0.25403181],\n",
       "        [ 0.36943376,  0.43937556,  0.62286516,  0.54686337]],\n",
       "\n",
       "       [[ 1.20780161,  0.71228777,  0.58296557,  0.15402311],\n",
       "        [ 0.94272671,  0.98695284,  0.61424485,  0.31562241],\n",
       "        [ 1.38933582,  0.58978563,  0.58624335, -0.01395634],\n",
       "        ..., \n",
       "        [ 0.62507634,  0.32883601,  0.84428886,  0.37741587],\n",
       "        [ 0.78528579,  0.75909067,  0.36130429,  0.59227397],\n",
       "        [ 0.78704832,  0.60033282,  0.40945976,  0.47230701]],\n",
       "\n",
       "       [[ 1.27049538,  0.86262482,  0.18796229,  0.19818941],\n",
       "        [ 1.4534999 ,  1.09876963,  0.27627022,  0.21023645],\n",
       "        [ 0.59433967,  0.8494213 ,  0.45145063,  0.22460298],\n",
       "        ..., \n",
       "        [ 0.85192709,  0.37833912,  0.3221369 ,  0.35856144],\n",
       "        [ 0.33631892,  0.81594861,  0.19150893, -0.05232385],\n",
       "        [ 0.70151953,  0.75490992,  0.36748635,  0.48538536]]])"
      ]
     },
     "execution_count": 30,
     "metadata": {},
     "output_type": "execute_result"
    }
   ],
   "source": [
    "output_map"
   ]
  },
  {
   "cell_type": "code",
   "execution_count": 159,
   "metadata": {
    "collapsed": false
   },
   "outputs": [
    {
     "data": {
      "image/png": "[encoded data removed]",
      "text/plain": [
       "<matplotlib.figure.Figure at 0x10f542b0>"
      ]
     },
     "metadata": {},
     "output_type": "display_data"
    }
   ],
   "source": [
    "input_data=np.loadtxt(\"C:\\Users\\Tomomu-Iwai\\Downloads\\sampledataset.csv\",delimiter=\",\")\n",
    "som = SOM(output_shape, input_data)\n",
    "som.set_parameter(neighbor=0.7, learning_rate=0.5)\n",
    "output_map = som.train(150000)\n",
    "plt.imshow(output_map, interpolation='none')\n",
    "plt.show()"
   ]
  },
  {
   "cell_type": "code",
   "execution_count": 28,
   "metadata": {
    "collapsed": false
   },
   "outputs": [
    {
     "data": {
      "image/png": "[encoded data removed]",
      "text/plain": [
       "<matplotlib.figure.Figure at 0xce1a978>"
      ]
     },
     "metadata": {},
     "output_type": "display_data"
    }
   ],
   "source": [
    "input_data=np.loadtxt(\"C:\\Users\\Tomomu-Iwai\\Downloads\\sampledataset.csv\",delimiter=\",\")\n",
    "som = SOM(output_shape, input_data)\n",
    "som.set_parameter(neighbor=0.5, learning_rate=0.5)\n",
    "output_map = som.train(150000)\n",
    "plt.imshow(output_map, interpolation='none')\n",
    "plt.show()"
   ]
  },
  {
   "cell_type": "code",
   "execution_count": 31,
   "metadata": {
    "collapsed": false
   },
   "outputs": [
    {
     "data": {
      "image/png": "[encoded data removed]",
      "text/plain": [
       "<matplotlib.figure.Figure at 0xdbfe908>"
      ]
     },
     "metadata": {},
     "output_type": "display_data"
    }
   ],
   "source": [
    "input_data=np.loadtxt(\"C:\\Users\\Tomomu-Iwai\\Downloads\\sampledataset.csv\",delimiter=\",\")\n",
    "som = SOM(output_shape, input_data)\n",
    "som.set_parameter(neighbor=0.7, learning_rate=0.5)\n",
    "output_map = som.train(150000)\n",
    "plt.imshow(output_map, interpolation='none')\n",
    "plt.show()"
   ]
  },
  {
   "cell_type": "code",
   "execution_count": null,
   "metadata": {
    "collapsed": true
   },
   "outputs": [],
   "source": []
  }
 ],
 "metadata": {
  "kernelspec": {
   "display_name": "Python 2",
   "language": "python",
   "name": "python2"
  },
  "language_info": {
   "codemirror_mode": {
    "name": "ipython",
    "version": 2
   },
   "file_extension": ".py",
   "mimetype": "text/x-python",
   "name": "python",
   "nbconvert_exporter": "python",
   "pygments_lexer": "ipython2",
   "version": "2.7.13"
  }
 },
 "nbformat": 4,
 "nbformat_minor": 2
}
